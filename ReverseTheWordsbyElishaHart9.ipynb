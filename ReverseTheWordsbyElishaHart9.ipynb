{
 "cells": [
  {
   "cell_type": "code",
   "execution_count": 7,
   "id": "806b44f3-d7df-4a45-ac9a-c0a20ecc5b6f",
   "metadata": {},
   "outputs": [
    {
     "name": "stdout",
     "output_type": "stream",
     "text": [
      "Hart Vernee Elisha is name My\n"
     ]
    }
   ],
   "source": [
    "### WAP To Reverse The Words\n",
    "\n",
    "string = \"My name is Elisha Vernee Hart\"\n",
    "\n",
    "j = string.split () [::-1]\n",
    "k = []\n",
    "for i in j:\n",
    "    k.append(i)\n",
    "print(\" \".join(k))"
   ]
  },
  {
   "cell_type": "code",
   "execution_count": null,
   "id": "12934f7b-f6f0-4904-9912-0da6a15a4c0d",
   "metadata": {},
   "outputs": [],
   "source": []
  },
  {
   "cell_type": "code",
   "execution_count": null,
   "id": "1f907dd1-e8b6-4b8c-8a30-035da5e6e053",
   "metadata": {},
   "outputs": [],
   "source": []
  }
 ],
 "metadata": {
  "kernelspec": {
   "display_name": "anaconda-2022.05-py39",
   "language": "python",
   "name": "conda-env-anaconda-2022.05-py39-py"
  },
  "language_info": {
   "codemirror_mode": {
    "name": "ipython",
    "version": 3
   },
   "file_extension": ".py",
   "mimetype": "text/x-python",
   "name": "python",
   "nbconvert_exporter": "python",
   "pygments_lexer": "ipython3",
   "version": "3.9.12"
  }
 },
 "nbformat": 4,
 "nbformat_minor": 5
}
